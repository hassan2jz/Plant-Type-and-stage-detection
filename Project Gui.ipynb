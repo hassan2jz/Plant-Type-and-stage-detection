{
 "cells": [
  {
   "cell_type": "code",
   "execution_count": 1,
   "id": "a70c341e",
   "metadata": {},
   "outputs": [],
   "source": [
    "from tkinter import *\n",
    "from tkinter.ttk import *\n",
    "from tkinter.filedialog import askopenfile \n",
    "import time\n",
    "from PIL import ImageTk, Image\n",
    "#from keras.layers import Input, Lambda, Dense, Flatten\n",
    "#from keras.models import Model\n",
    "#from keras.applications import inceptionV3\n",
    "#from keras.applications.vgg16 import InceptionResNetV2\n",
    "#from keras.applications.inceptionv3 import preprocess_input\n",
    "##from keras.preprocessing import image\n",
    "#rom keras.preprocessing.image import ImageDataGenerator\n",
    "#from keras.models import Sequential\n",
    "import numpy as np\n",
    "from glob import glob\n",
    "import matplotlib.pyplot as plt\n",
    "import shutil"
   ]
  },
  {
   "cell_type": "code",
   "execution_count": 2,
   "id": "5822aa9a",
   "metadata": {},
   "outputs": [],
   "source": [
    "import tensorflow as tf\n",
    " \n",
    "from keras.models import load_model"
   ]
  },
  {
   "cell_type": "code",
   "execution_count": 3,
   "id": "d46136ae",
   "metadata": {},
   "outputs": [],
   "source": [
    "model = load_model('model_inceptionv3.h5')"
   ]
  },
  {
   "cell_type": "code",
   "execution_count": 4,
   "id": "fb062dcf",
   "metadata": {},
   "outputs": [],
   "source": [
    "plants = { \n",
    "    0:'Basil Juvenile Stage',\n",
    "    1:'Basil Reproductive Stage',\n",
    "    2:'Basil Seedling Stage',\n",
    "    3:'Bell Pepper Flowering Stage',\n",
    "    4:'Bell Pepper Fruiting Stage',\n",
    "    5:'Bell Pepper Germination Stage',\n",
    "    6:'Bell Pepper Vegetative Stage',\n",
    "    7:'Chamomile Bud Formation Stage',\n",
    "    8:'Chamomile Flowering Stage',\n",
    "    9:'Chamomile Seedling Stage',\n",
    "    10:'Corn maize Blister and Milk Stage',\n",
    "    11:'Corn maize Leaf Emergence Stage',\n",
    "    12:'Corn maize Physiological Maturity Stage',\n",
    "    13:'Corn maize Silk Stage',\n",
    "    14:'Corn maize Tassel Stage',\n",
    "    15:'Cotton Emergence Stage',\n",
    "    16:'Cotton Emergence to First Square Stage',\n",
    "    17:'Cotton First Flower Stage',\n",
    "    18:'Cotton Flower to Open Boll Stage',\n",
    "    19:'Cotton Harvest Ready Stage',\n",
    "    20:'Daffodill Bulb Production Stage',\n",
    "    21:'Daffodill Maturation Stage',\n",
    "    22:'Daffodill Seedling Stage',\n",
    "    23:'Egg plant Flowering Stage',\n",
    "    24:'Egg plant Fruiting Stage',\n",
    "    25:'Egg plant Germination Stage',\n",
    "    26:'Marigold Cotyledon Stage',\n",
    "    27:'Marigold Flowering Stage',\n",
    "    28:'Marigold Germination Stage',\n",
    "    29:'Moringa Flowering Stage',\n",
    "    30:'Moringa Fruiting Stage',\n",
    "    31:'Moringa Germination Stage',\n",
    "    32:'Tomato Flowering Stage',\n",
    "    33:'Tomato Fruiting Stage',\n",
    "    34:'Tomato Vegetative Growth Stage',\n",
    "    35:'Tomato Young Seedling stage',\n",
    "}\n"
   ]
  },
  {
   "cell_type": "code",
   "execution_count": 5,
   "id": "51a62248",
   "metadata": {},
   "outputs": [],
   "source": [
    "def predict(p):\n",
    "    import keras\n",
    "    import tensorflow\n",
    "    import numpy as np\n",
    "    image_path = p\n",
    "    # Load the image and resize it to the required input size for the inceptionv3 model\n",
    "    img = keras.utils.load_img(image_path, target_size=(224, 224))\n",
    "\n",
    "    # Convert the image to a numpy array\n",
    "    x = keras.utils.img_to_array(img)\n",
    "\n",
    "    # Add an extra dimension to the array to match the input shape of the model\n",
    "    x = np.expand_dims(x, axis=0)\n",
    "\n",
    "    # Normalize the data\n",
    "    x = x / 255.\n",
    "\n",
    "    # Use the model to predict the class of the image\n",
    "    prediction = model.predict(x)\n",
    "\n",
    "    # Get the index of the class with the highest probability\n",
    "    predicted_class = np.argmax(prediction)\n",
    "    print(predicted_class)\n",
    "    return predicted_class"
   ]
  },
  {
   "cell_type": "code",
   "execution_count": 6,
   "id": "9881c83a",
   "metadata": {},
   "outputs": [
    {
     "ename": "NameError",
     "evalue": "name 'predicted_class' is not defined",
     "output_type": "error",
     "traceback": [
      "\u001b[1;31m---------------------------------------------------------------------------\u001b[0m",
      "\u001b[1;31mNameError\u001b[0m                                 Traceback (most recent call last)",
      "\u001b[1;32m~\\AppData\\Local\\Temp\\ipykernel_6008\\4218928653.py\u001b[0m in \u001b[0;36m<module>\u001b[1;34m\u001b[0m\n\u001b[1;32m----> 1\u001b[1;33m \u001b[0mprint\u001b[0m\u001b[1;33m(\u001b[0m\u001b[0mpredicted_class\u001b[0m\u001b[1;33m)\u001b[0m\u001b[1;33m\u001b[0m\u001b[1;33m\u001b[0m\u001b[0m\n\u001b[0m",
      "\u001b[1;31mNameError\u001b[0m: name 'predicted_class' is not defined"
     ]
    }
   ],
   "source": [
    "print(predicted_class)"
   ]
  },
  {
   "cell_type": "code",
   "execution_count": null,
   "id": "a2afac1b",
   "metadata": {},
   "outputs": [
    {
     "name": "stdout",
     "output_type": "stream",
     "text": [
      "1/1 [==============================] - 1s 1s/step\n",
      "32\n",
      "1/1 [==============================] - 0s 69ms/step\n",
      "32\n",
      "1/1 [==============================] - 0s 80ms/step\n",
      "30\n",
      "1/1 [==============================] - 0s 60ms/step\n",
      "30\n",
      "1/1 [==============================] - 0s 67ms/step\n",
      "30\n",
      "1/1 [==============================] - 0s 66ms/step\n",
      "30\n",
      "1/1 [==============================] - 0s 82ms/step\n",
      "13\n",
      "1/1 [==============================] - 0s 63ms/step\n",
      "13\n"
     ]
    },
    {
     "name": "stderr",
     "output_type": "stream",
     "text": [
      "Exception in Tkinter callback\n",
      "Traceback (most recent call last):\n",
      "  File \"C:\\Users\\khans\\anaconda3\\lib\\site-packages\\PIL\\Image.py\", line 3096, in open\n",
      "    fp.seek(0)\n",
      "AttributeError: 'str' object has no attribute 'seek'\n",
      "\n",
      "During handling of the above exception, another exception occurred:\n",
      "\n",
      "Traceback (most recent call last):\n",
      "  File \"C:\\Users\\khans\\anaconda3\\lib\\tkinter\\__init__.py\", line 1892, in __call__\n",
      "    return self.func(*args)\n",
      "  File \"C:\\Users\\khans\\AppData\\Local\\Temp\\ipykernel_6008\\422199717.py\", line 15, in select_file\n",
      "    img= Image.open(path)\n",
      "  File \"C:\\Users\\khans\\anaconda3\\lib\\site-packages\\PIL\\Image.py\", line 3098, in open\n",
      "    fp = io.BytesIO(fp.read())\n",
      "AttributeError: 'str' object has no attribute 'read'\n"
     ]
    },
    {
     "name": "stdout",
     "output_type": "stream",
     "text": [
      "1/1 [==============================] - 0s 79ms/step\n",
      "13\n",
      "1/1 [==============================] - 0s 60ms/step\n",
      "13\n"
     ]
    },
    {
     "name": "stderr",
     "output_type": "stream",
     "text": [
      "Exception in Tkinter callback\n",
      "Traceback (most recent call last):\n",
      "  File \"C:\\Users\\khans\\anaconda3\\lib\\site-packages\\PIL\\Image.py\", line 3096, in open\n",
      "    fp.seek(0)\n",
      "AttributeError: 'str' object has no attribute 'seek'\n",
      "\n",
      "During handling of the above exception, another exception occurred:\n",
      "\n",
      "Traceback (most recent call last):\n",
      "  File \"C:\\Users\\khans\\anaconda3\\lib\\tkinter\\__init__.py\", line 1892, in __call__\n",
      "    return self.func(*args)\n",
      "  File \"C:\\Users\\khans\\AppData\\Local\\Temp\\ipykernel_6008\\422199717.py\", line 15, in select_file\n",
      "    img= Image.open(path)\n",
      "  File \"C:\\Users\\khans\\anaconda3\\lib\\site-packages\\PIL\\Image.py\", line 3098, in open\n",
      "    fp = io.BytesIO(fp.read())\n",
      "AttributeError: 'str' object has no attribute 'read'\n"
     ]
    }
   ],
   "source": [
    "#Import the Tkinter library\n",
    "from tkinter import *\n",
    "from tkinter import ttk\n",
    "from tkinter import filedialog\n",
    "from PIL import Image, ImageTk\n",
    "#Create an instance of Tkinter frame\n",
    "win= Tk()\n",
    "#Define the geometry\n",
    "win.geometry(\"750x550\")\n",
    "win.title(\"Plant Type and Stage detector\")\n",
    "\n",
    "\n",
    "def select_file():\n",
    "   path= filedialog.askopenfilename(title=\"Select an Image\", filetype=(('image    files','*.jpg'),('all files','*.*')))\n",
    "   img= Image.open(path)\n",
    "   img = img.resize((300,300))\n",
    "   img=ImageTk.PhotoImage(img)\n",
    "   label1 = Label(win, text = plants.get(int(predict(path))))\n",
    "   label1.pack()\n",
    "   label2 = Label(win, text = predict(path))\n",
    "   label2.pack()\n",
    "   label= Label(win, image= img,)\n",
    "   label.image= img\n",
    "   label.pack()\n",
    "   b = Button(win, text=\"Clear\", command=lambda: [b.pack_forget(), label.destroy(), label1.destroy(), label2.destroy() ])\n",
    "   b.pack(pady=20)\n",
    "   \n",
    "    \n",
    "#Create a label and a Button to Open the dialog\n",
    "Label(win, text=\"Click the Button below to select an Image\", font=('Caveat 15 bold')).pack(pady=20)\n",
    "button= ttk.Button(win, text=\"Select to Open\", command= select_file)\n",
    "button.pack(ipadx=5, pady=15)\n",
    "win.mainloop()"
   ]
  },
  {
   "cell_type": "code",
   "execution_count": null,
   "id": "ca7c1bd3",
   "metadata": {},
   "outputs": [],
   "source": []
  }
 ],
 "metadata": {
  "kernelspec": {
   "display_name": "Python 3 (ipykernel)",
   "language": "python",
   "name": "python3"
  },
  "language_info": {
   "codemirror_mode": {
    "name": "ipython",
    "version": 3
   },
   "file_extension": ".py",
   "mimetype": "text/x-python",
   "name": "python",
   "nbconvert_exporter": "python",
   "pygments_lexer": "ipython3",
   "version": "3.9.13"
  }
 },
 "nbformat": 4,
 "nbformat_minor": 5
}
